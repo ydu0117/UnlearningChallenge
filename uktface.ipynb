{
 "cells": [
  {
   "cell_type": "code",
   "execution_count": 9,
   "metadata": {
    "collapsed": true,
    "ExecuteTime": {
     "start_time": "2023-10-19T14:32:17.102904Z",
     "end_time": "2023-10-19T14:32:22.310481Z"
    }
   },
   "outputs": [],
   "source": [
    "import os\n",
    "import csv\n",
    "\n",
    "# Define the directory containing your images\n",
    "image_directory = 'Z:\\data\\Face/UTKFace/'\n",
    "\n",
    "# Create a list to store the information\n",
    "image_data = []\n",
    "\n",
    "# Iterate through the files in the directory\n",
    "for filename in os.listdir(image_directory):\n",
    "    if filename.endswith(\".jpg\"):\n",
    "        # Split the filename by underscores\n",
    "        parts = filename.split('_')\n",
    "\n",
    "        # Extract age and path information\n",
    "        age = parts[0]\n",
    "        path = os.path.join(image_directory, filename)\n",
    "\n",
    "        # Append the information to the list\n",
    "        image_data.append([filename, age, parts[-1].split('.')[0]])\n",
    "\n",
    "# Define the path for the output CSV file\n",
    "output_csv = './utkface.csv'\n",
    "\n",
    "# Write the information to a CSV file\n",
    "with open(output_csv, mode='w', newline='') as file:\n",
    "    writer = csv.writer(file)\n",
    "    writer.writerow(['image_id', 'age', 'person_id'])\n",
    "    writer.writerows(image_data)\n"
   ]
  },
  {
   "cell_type": "code",
   "execution_count": 35,
   "outputs": [
    {
     "name": "stdout",
     "output_type": "stream",
     "text": [
      "0        26\n",
      "1        47\n",
      "2        56\n",
      "3         1\n",
      "4        57\n",
      "         ..\n",
      "23703    65\n",
      "23704    48\n",
      "23705    24\n",
      "23706    60\n",
      "23707    24\n",
      "Name: age, Length: 23708, dtype: int64\n",
      "                                    image_id  age          person_id age_group\n",
      "0      26_1_0_20170117201605677.jpg.chip.jpg   26  20170117201605677         3\n",
      "1      47_1_3_20170119202206348.jpg.chip.jpg   47  20170119202206348         5\n",
      "2      56_1_0_20170109002302955.jpg.chip.jpg   56  20170109002302955         6\n",
      "3       1_1_0_20170109191027883.jpg.chip.jpg    1  20170109191027883         0\n",
      "4      57_0_0_20170117172545585.jpg.chip.jpg   57  20170117172545585         7\n",
      "...                                      ...  ...                ...       ...\n",
      "23703  65_0_0_20170117204724913.jpg.chip.jpg   65  20170117204724913         8\n",
      "23704  48_0_0_20170116233057278.jpg.chip.jpg   48  20170116233057278         5\n",
      "23705  24_0_2_20170116170903688.jpg.chip.jpg   24  20170116170903688         2\n",
      "23706  60_0_0_20170120223110723.jpg.chip.jpg   60  20170120223110723         7\n",
      "23707  24_1_1_20170116200854756.jpg.chip.jpg   24  20170116200854756         2\n",
      "\n",
      "[23708 rows x 4 columns]\n"
     ]
    }
   ],
   "source": [
    "import pandas as pd\n",
    "df = pd.read_csv(\"utkface.csv\")\n",
    "print(df['age'])\n",
    "df['age_group'], bins = pd.cut(df['age'], bins=range(0, 81, 8), labels=range(10), retbins=True)\n",
    "print(df)\n",
    "# Reorder the columns\n",
    "df = df[['image_id', 'age_group', 'age', 'person_id']]\n",
    "\n",
    "# Save the DataFrame to a new csv file\n",
    "df.to_csv(\"cleanutkface0to80.csv\", index=False)"
   ],
   "metadata": {
    "collapsed": false,
    "ExecuteTime": {
     "start_time": "2023-10-19T14:45:11.810586Z",
     "end_time": "2023-10-19T14:45:12.176042Z"
    }
   }
  },
  {
   "cell_type": "code",
   "execution_count": 31,
   "outputs": [],
   "source": [],
   "metadata": {
    "collapsed": false,
    "ExecuteTime": {
     "start_time": "2023-10-19T14:43:46.232993Z",
     "end_time": "2023-10-19T14:43:46.253951Z"
    }
   }
  },
  {
   "cell_type": "code",
   "execution_count": 30,
   "outputs": [
    {
     "name": "stdout",
     "output_type": "stream",
     "text": [
      "age_group\n",
      "0    1015\n",
      "1    2670\n",
      "2    6108\n",
      "3    3197\n",
      "4    1887\n",
      "5    1375\n",
      "6    1548\n",
      "7    1068\n",
      "8     591\n",
      "9     491\n",
      "Name: count, dtype: int64\n"
     ]
    }
   ],
   "source": [
    "print(df['age_group'].value_counts().sort_index())\n"
   ],
   "metadata": {
    "collapsed": false,
    "ExecuteTime": {
     "start_time": "2023-10-19T14:43:34.299824Z",
     "end_time": "2023-10-19T14:43:34.324612Z"
    }
   }
  },
  {
   "cell_type": "code",
   "execution_count": 37,
   "outputs": [],
   "source": [
    "import pandas as pd\n",
    "from sklearn.model_selection import train_test_split\n",
    "\n",
    "df = pd.read_csv('utkface/cleanutkface0to80.csv')\n",
    "# Split the data into a training set and a temporary set using an 60-40 split\n",
    "train_df, temp_df = train_test_split(df, test_size=0.2, random_state=42)\n",
    "\n",
    "# Split the temporary set equally to get the validation and test sets\n",
    "val_df, test_df = train_test_split(temp_df, test_size=0.5, random_state=42)\n",
    "\n",
    "train_df.to_csv(\"utkface/train.csv\", index=False)\n",
    "val_df.to_csv(\"utkface/val.csv\", index=False)\n",
    "test_df.to_csv(\"utkface/test.csv\", index=False)\n",
    "\n",
    "retain_df, forget_df = train_test_split(train_df, test_size=0.01, random_state=42)\n",
    "retain_df.to_csv(\"utkface/retain.csv\", index=False)\n",
    "forget_df.to_csv(\"utkface/forget.csv\", index=False)"
   ],
   "metadata": {
    "collapsed": false,
    "ExecuteTime": {
     "start_time": "2023-10-19T14:49:52.635639Z",
     "end_time": "2023-10-19T14:49:53.297866Z"
    }
   }
  }
 ],
 "metadata": {
  "kernelspec": {
   "display_name": "Python 3",
   "language": "python",
   "name": "python3"
  },
  "language_info": {
   "codemirror_mode": {
    "name": "ipython",
    "version": 2
   },
   "file_extension": ".py",
   "mimetype": "text/x-python",
   "name": "python",
   "nbconvert_exporter": "python",
   "pygments_lexer": "ipython2",
   "version": "2.7.6"
  }
 },
 "nbformat": 4,
 "nbformat_minor": 0
}
