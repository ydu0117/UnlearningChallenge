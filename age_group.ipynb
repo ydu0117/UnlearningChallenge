{
 "cells": [
  {
   "cell_type": "code",
   "execution_count": 7,
   "metadata": {
    "collapsed": true,
    "ExecuteTime": {
     "start_time": "2023-10-18T18:05:51.688305Z",
     "end_time": "2023-10-18T18:05:52.239339Z"
    }
   },
   "outputs": [
    {
     "name": "stdout",
     "output_type": "stream",
     "text": [
      "0         20\n",
      "1         20\n",
      "2         20\n",
      "3         20\n",
      "4         20\n",
      "          ..\n",
      "273905    79\n",
      "273906    79\n",
      "273907    79\n",
      "273908    79\n",
      "273909    79\n",
      "Name: age, Length: 273910, dtype: int64\n"
     ]
    }
   ],
   "source": [
    "import pandas as pd\n",
    "df = pd.read_csv(\"image_ages.csv\")\n",
    "print(df['age'])"
   ]
  },
  {
   "cell_type": "code",
   "execution_count": 10,
   "outputs": [
    {
     "name": "stdout",
     "output_type": "stream",
     "text": [
      "                                         image_id  age  person_id age_group\n",
      "0        00\\nm0000700_rm3470510336_1955-5-16_1975   20  nm0000700         0\n",
      "1        00\\nm0029400_rm1082627584_1987-12-3_2007   20  nm0029400         0\n",
      "2        00\\nm0029400_rm1099404800_1987-12-3_2007   20  nm0029400         0\n",
      "3        00\\nm0029400_rm1334285824_1987-12-3_2007   20  nm0029400         0\n",
      "4        00\\nm0029400_rm3908933632_1987-12-3_2007   20  nm0029400         0\n",
      "...                                           ...  ...        ...       ...\n",
      "273905  99\\nm0000799_rm2682492160_1929-11-15_2008   79  nm0000799         9\n",
      "273906  99\\nm0000799_rm3464861440_1929-11-15_2008   79  nm0000799         9\n",
      "273907  99\\nm0000799_rm3481638656_1929-11-15_2008   79  nm0000799         9\n",
      "273908  99\\nm0000799_rm3548747520_1929-11-15_2008   79  nm0000799         9\n",
      "273909  99\\nm0563099_rm1573493504_1926-11-26_2005   79  nm0563099         9\n",
      "\n",
      "[273910 rows x 4 columns]\n"
     ]
    }
   ],
   "source": [
    "df['age_group'], bins = pd.cut(df['age'], bins=range(19, 80, 6), labels=range(10), retbins=True)\n",
    "print(df)"
   ],
   "metadata": {
    "collapsed": false,
    "ExecuteTime": {
     "start_time": "2023-10-18T18:15:16.001398Z",
     "end_time": "2023-10-18T18:15:16.063190Z"
    }
   }
  },
  {
   "cell_type": "code",
   "execution_count": 11,
   "outputs": [],
   "source": [
    "# Reorder the columns\n",
    "df = df[['image_id', 'age_group', 'age', 'person_id']]\n",
    "\n",
    "# Save the DataFrame to a new csv file\n",
    "df.to_csv(\"new_filename.csv\", index=False)"
   ],
   "metadata": {
    "collapsed": false,
    "ExecuteTime": {
     "start_time": "2023-10-18T18:16:30.221839Z",
     "end_time": "2023-10-18T18:16:33.322346Z"
    }
   }
  },
  {
   "cell_type": "code",
   "execution_count": 16,
   "outputs": [],
   "source": [
    "\n",
    "from sklearn.model_selection import train_test_split\n",
    "\n",
    "# Split the data into a training set and a temporary set using an 60-40 split\n",
    "train_df, temp_df = train_test_split(df, test_size=0.4, random_state=42)\n",
    "\n",
    "# Split the temporary set equally to get the validation and test sets\n",
    "val_df, test_df = train_test_split(temp_df, test_size=0.5, random_state=42)\n",
    "\n",
    "# Save the three sets to csv files\n",
    "train_df.to_csv(\"train.csv\", index=False)\n",
    "val_df.to_csv(\"val.csv\", index=False)\n",
    "test_df.to_csv(\"test.csv\", index=False)"
   ],
   "metadata": {
    "collapsed": false,
    "ExecuteTime": {
     "start_time": "2023-10-18T18:21:27.475716Z",
     "end_time": "2023-10-18T18:21:31.763693Z"
    }
   }
  },
  {
   "cell_type": "code",
   "execution_count": 18,
   "outputs": [],
   "source": [
    "retain_df,forget_df = train_test_split(train_df, test_size=0.01, random_state=42)\n",
    "retain_df.to_csv(\"retain.csv\", index=False)\n",
    "forget_df.to_csv(\"forget.csv\", index=False)"
   ],
   "metadata": {
    "collapsed": false,
    "ExecuteTime": {
     "start_time": "2023-10-18T18:25:51.020097Z",
     "end_time": "2023-10-18T18:25:52.792860Z"
    }
   }
  },
  {
   "cell_type": "code",
   "execution_count": 15,
   "outputs": [
    {
     "name": "stdout",
     "output_type": "stream",
     "text": [
      "Collecting scikit-learn\n",
      "  Downloading scikit_learn-1.3.1-cp39-cp39-win_amd64.whl (9.3 MB)\n",
      "     ---------------------------------------- 9.3/9.3 MB 19.3 MB/s eta 0:00:00\n",
      "Collecting joblib>=1.1.1\n",
      "  Downloading joblib-1.3.2-py3-none-any.whl (302 kB)\n",
      "     ------------------------------------- 302.2/302.2 KB 19.5 MB/s eta 0:00:00\n",
      "Collecting threadpoolctl>=2.0.0\n",
      "  Downloading threadpoolctl-3.2.0-py3-none-any.whl (15 kB)\n",
      "Requirement already satisfied: numpy<2.0,>=1.17.3 in c:\\users\\s2166007\\appdata\\local\\programs\\python\\python39\\lib\\site-packages (from scikit-learn) (1.25.0)\n",
      "Collecting scipy>=1.5.0\n",
      "  Downloading scipy-1.11.3-cp39-cp39-win_amd64.whl (44.3 MB)\n",
      "     --------------------------------------- 44.3/44.3 MB 32.8 MB/s eta 0:00:00\n",
      "Installing collected packages: threadpoolctl, scipy, joblib, scikit-learn\n",
      "Successfully installed joblib-1.3.2 scikit-learn-1.3.1 scipy-1.11.3 threadpoolctl-3.2.0\n"
     ]
    },
    {
     "name": "stderr",
     "output_type": "stream",
     "text": [
      "WARNING: You are using pip version 22.0.4; however, version 23.3 is available.\n",
      "You should consider upgrading via the 'C:\\Users\\s2166007\\AppData\\Local\\Programs\\Python\\Python39\\python.exe -m pip install --upgrade pip' command.\n"
     ]
    }
   ],
   "source": [
    "!pip install scikit-learn"
   ],
   "metadata": {
    "collapsed": false,
    "ExecuteTime": {
     "start_time": "2023-10-18T18:21:01.161490Z",
     "end_time": "2023-10-18T18:21:14.491664Z"
    }
   }
  },
  {
   "cell_type": "code",
   "execution_count": 12,
   "outputs": [
    {
     "name": "stdout",
     "output_type": "stream",
     "text": [
      "age_group\n",
      "0    35446\n",
      "1    54601\n",
      "2    57438\n",
      "3    48434\n",
      "4    32312\n",
      "5    19532\n",
      "6    12242\n",
      "7     7515\n",
      "8     4214\n",
      "9     2176\n",
      "Name: count, dtype: int64\n"
     ]
    }
   ],
   "source": [
    "print(df['age_group'].value_counts().sort_index())"
   ],
   "metadata": {
    "collapsed": false,
    "ExecuteTime": {
     "start_time": "2023-10-18T18:16:50.112596Z",
     "end_time": "2023-10-18T18:16:50.175725Z"
    }
   }
  }
 ],
 "metadata": {
  "kernelspec": {
   "display_name": "Python 3",
   "language": "python",
   "name": "python3"
  },
  "language_info": {
   "codemirror_mode": {
    "name": "ipython",
    "version": 2
   },
   "file_extension": ".py",
   "mimetype": "text/x-python",
   "name": "python",
   "nbconvert_exporter": "python",
   "pygments_lexer": "ipython2",
   "version": "2.7.6"
  }
 },
 "nbformat": 4,
 "nbformat_minor": 0
}
